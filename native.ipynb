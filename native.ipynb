{
 "cells": [
  {
   "cell_type": "code",
   "execution_count": null,
   "id": "d1945eb6",
   "metadata": {
    "_cell_guid": "b1076dfc-b9ad-4769-8c92-a6c4dae69d19",
    "_uuid": "8f2839f25d086af736a60e9eeb907d3b93b6e0e5",
    "papermill": {
     "duration": 0.002728,
     "end_time": "2025-03-05T11:15:26.156009",
     "exception": false,
     "start_time": "2025-03-05T11:15:26.153281",
     "status": "completed"
    },
    "tags": []
   },
   "outputs": [],
   "source": []
  },
  {
   "cell_type": "code",
   "execution_count": 1,
   "id": "9df6ec64",
   "metadata": {
    "execution": {
     "iopub.execute_input": "2025-03-05T11:15:26.161614Z",
     "iopub.status.busy": "2025-03-05T11:15:26.161350Z",
     "iopub.status.idle": "2025-03-05T11:15:27.640582Z",
     "shell.execute_reply": "2025-03-05T11:15:27.639738Z"
    },
    "papermill": {
     "duration": 1.483671,
     "end_time": "2025-03-05T11:15:27.642305",
     "exception": false,
     "start_time": "2025-03-05T11:15:26.158634",
     "status": "completed"
    },
    "tags": []
   },
   "outputs": [
    {
     "name": "stdout",
     "output_type": "stream",
     "text": [
      "Cloning into 'NATIVE_copy'...\r\n",
      "remote: Enumerating objects: 220, done.\u001b[K\r\n",
      "remote: Counting objects: 100% (220/220), done.\u001b[K\r\n",
      "remote: Compressing objects: 100% (149/149), done.\u001b[K\r\n",
      "remote: Total 220 (delta 72), reused 201 (delta 62), pack-reused 0 (from 0)\u001b[K\r\n",
      "Receiving objects: 100% (220/220), 10.47 MiB | 28.14 MiB/s, done.\r\n",
      "Resolving deltas: 100% (72/72), done.\r\n"
     ]
    }
   ],
   "source": [
    "!git clone https://github.com/wanghy-00/NATIVE_copy.git"
   ]
  },
  {
   "cell_type": "code",
   "execution_count": 2,
   "id": "e8a34fa7",
   "metadata": {
    "execution": {
     "iopub.execute_input": "2025-03-05T11:15:27.649431Z",
     "iopub.status.busy": "2025-03-05T11:15:27.649167Z",
     "iopub.status.idle": "2025-03-05T11:15:27.652377Z",
     "shell.execute_reply": "2025-03-05T11:15:27.651562Z"
    },
    "papermill": {
     "duration": 0.007908,
     "end_time": "2025-03-05T11:15:27.653498",
     "exception": false,
     "start_time": "2025-03-05T11:15:27.645590",
     "status": "completed"
    },
    "tags": []
   },
   "outputs": [],
   "source": [
    "# !pip install -r /kaggle/working/NATIVE_copy/requirements.txt\n",
    "# "
   ]
  },
  {
   "cell_type": "code",
   "execution_count": 3,
   "id": "787c2094",
   "metadata": {
    "execution": {
     "iopub.execute_input": "2025-03-05T11:15:27.660033Z",
     "iopub.status.busy": "2025-03-05T11:15:27.659805Z",
     "iopub.status.idle": "2025-03-05T11:15:27.665794Z",
     "shell.execute_reply": "2025-03-05T11:15:27.664951Z"
    },
    "papermill": {
     "duration": 0.010569,
     "end_time": "2025-03-05T11:15:27.667035",
     "exception": false,
     "start_time": "2025-03-05T11:15:27.656466",
     "status": "completed"
    },
    "tags": []
   },
   "outputs": [
    {
     "name": "stdout",
     "output_type": "stream",
     "text": [
      "/kaggle/working/NATIVE_copy\n"
     ]
    }
   ],
   "source": [
    "%cd /kaggle/working/NATIVE_copy/"
   ]
  },
  {
   "cell_type": "code",
   "execution_count": 4,
   "id": "c153126b",
   "metadata": {
    "execution": {
     "iopub.execute_input": "2025-03-05T11:15:27.673465Z",
     "iopub.status.busy": "2025-03-05T11:15:27.673274Z",
     "iopub.status.idle": "2025-03-05T11:15:27.676128Z",
     "shell.execute_reply": "2025-03-05T11:15:27.675495Z"
    },
    "papermill": {
     "duration": 0.007262,
     "end_time": "2025-03-05T11:15:27.677250",
     "exception": false,
     "start_time": "2025-03-05T11:15:27.669988",
     "status": "completed"
    },
    "tags": []
   },
   "outputs": [],
   "source": [
    "# %cd NATIVE_copy"
   ]
  },
  {
   "cell_type": "code",
   "execution_count": 5,
   "id": "4481da27",
   "metadata": {
    "execution": {
     "iopub.execute_input": "2025-03-05T11:15:27.683703Z",
     "iopub.status.busy": "2025-03-05T11:15:27.683459Z",
     "iopub.status.idle": "2025-03-05T11:15:27.686223Z",
     "shell.execute_reply": "2025-03-05T11:15:27.685630Z"
    },
    "papermill": {
     "duration": 0.007239,
     "end_time": "2025-03-05T11:15:27.687369",
     "exception": false,
     "start_time": "2025-03-05T11:15:27.680130",
     "status": "completed"
    },
    "tags": []
   },
   "outputs": [],
   "source": [
    "# !cp -r /kaggle/input/ebd /kaggle/working/NATIVE_copy/embeddings\n"
   ]
  },
  {
   "cell_type": "code",
   "execution_count": 6,
   "id": "ed881f21",
   "metadata": {
    "execution": {
     "iopub.execute_input": "2025-03-05T11:15:27.693750Z",
     "iopub.status.busy": "2025-03-05T11:15:27.693508Z",
     "iopub.status.idle": "2025-03-05T11:15:27.696261Z",
     "shell.execute_reply": "2025-03-05T11:15:27.695632Z"
    },
    "papermill": {
     "duration": 0.007072,
     "end_time": "2025-03-05T11:15:27.697324",
     "exception": false,
     "start_time": "2025-03-05T11:15:27.690252",
     "status": "completed"
    },
    "tags": []
   },
   "outputs": [],
   "source": [
    "\n",
    "# !rm -rf /kaggle/working/NATIVE_copy/embeddings"
   ]
  },
  {
   "cell_type": "code",
   "execution_count": 7,
   "id": "0c265276",
   "metadata": {
    "execution": {
     "iopub.execute_input": "2025-03-05T11:15:27.703782Z",
     "iopub.status.busy": "2025-03-05T11:15:27.703514Z",
     "iopub.status.idle": "2025-03-05T11:15:31.564195Z",
     "shell.execute_reply": "2025-03-05T11:15:31.563330Z"
    },
    "papermill": {
     "duration": 3.865437,
     "end_time": "2025-03-05T11:15:31.565658",
     "exception": false,
     "start_time": "2025-03-05T11:15:27.700221",
     "status": "completed"
    },
    "tags": []
   },
   "outputs": [
    {
     "data": {
      "text/plain": [
       "'/kaggle/working/NATIVE_copy/embeddings'"
      ]
     },
     "execution_count": 7,
     "metadata": {},
     "output_type": "execute_result"
    }
   ],
   "source": [
    "import shutil\n",
    "# 复制文件到working目录\n",
    "shutil.copytree('/kaggle/input/ebd/pytorch/default/1', '/kaggle/working/NATIVE_copy/embeddings')\n"
   ]
  },
  {
   "cell_type": "code",
   "execution_count": 8,
   "id": "e81678fd",
   "metadata": {
    "execution": {
     "iopub.execute_input": "2025-03-05T11:15:31.572874Z",
     "iopub.status.busy": "2025-03-05T11:15:31.572652Z",
     "iopub.status.idle": "2025-03-05T11:15:31.575448Z",
     "shell.execute_reply": "2025-03-05T11:15:31.574845Z"
    },
    "papermill": {
     "duration": 0.007776,
     "end_time": "2025-03-05T11:15:31.576821",
     "exception": false,
     "start_time": "2025-03-05T11:15:31.569045",
     "status": "completed"
    },
    "tags": []
   },
   "outputs": [],
   "source": [
    "# import torch\n",
    "# print(torch.cuda.current_device())\n",
    "# print(torch.cuda.get_device_name(torch.cuda.current_device()))\n",
    "# print(torch.cuda.memory_allocated())\n",
    "# print(torch.cuda.memory_cached())\n"
   ]
  },
  {
   "cell_type": "code",
   "execution_count": 9,
   "id": "664a6f6f",
   "metadata": {
    "execution": {
     "iopub.execute_input": "2025-03-05T11:15:31.583711Z",
     "iopub.status.busy": "2025-03-05T11:15:31.583470Z",
     "iopub.status.idle": "2025-03-05T21:36:27.273732Z",
     "shell.execute_reply": "2025-03-05T21:36:27.272823Z"
    },
    "papermill": {
     "duration": 37255.720889,
     "end_time": "2025-03-05T21:36:27.300836",
     "exception": false,
     "start_time": "2025-03-05T11:15:31.579947",
     "status": "completed"
    },
    "tags": []
   },
   "outputs": [
    {
     "name": "stderr",
     "output_type": "stream",
     "text": [
      "/kaggle/working/NATIVE_copy/run_adv_wgan_gp_3modal.py:31: FutureWarning: You are using `torch.load` with `weights_only=False` (the current default value), which uses the default pickle module implicitly. It is possible to construct malicious pickle data which will execute arbitrary code during unpickling (See https://github.com/pytorch/pytorch/blob/main/SECURITY.md#untrusted-models for more details). In a future release, the default value for `weights_only` will be flipped to `True`. This limits the functions that could be executed during unpickling. Arbitrary objects will no longer be allowed to be loaded via this mode unless they are explicitly allowlisted by the user via `torch.serialization.add_safe_globals`. We recommend you start setting `weights_only=True` for any use case where you don't have full control of the loaded file. Please open an issue on GitHub for any issues related to this experimental feature.\n",
      "  img_emb = torch.load('./embeddings/' + args.dataset + '-visual.pth')\n",
      "/kaggle/working/NATIVE_copy/run_adv_wgan_gp_3modal.py:32: FutureWarning: You are using `torch.load` with `weights_only=False` (the current default value), which uses the default pickle module implicitly. It is possible to construct malicious pickle data which will execute arbitrary code during unpickling (See https://github.com/pytorch/pytorch/blob/main/SECURITY.md#untrusted-models for more details). In a future release, the default value for `weights_only` will be flipped to `True`. This limits the functions that could be executed during unpickling. Arbitrary objects will no longer be allowed to be loaded via this mode unless they are explicitly allowlisted by the user via `torch.serialization.add_safe_globals`. We recommend you start setting `weights_only=True` for any use case where you don't have full control of the loaded file. Please open an issue on GitHub for any issues related to this experimental feature.\n",
      "  text_emb = torch.load('./embeddings/' + args.dataset + '-textual.pth')\n",
      "/kaggle/working/NATIVE_copy/run_adv_wgan_gp_3modal.py:33: FutureWarning: You are using `torch.load` with `weights_only=False` (the current default value), which uses the default pickle module implicitly. It is possible to construct malicious pickle data which will execute arbitrary code during unpickling (See https://github.com/pytorch/pytorch/blob/main/SECURITY.md#untrusted-models for more details). In a future release, the default value for `weights_only` will be flipped to `True`. This limits the functions that could be executed during unpickling. Arbitrary objects will no longer be allowed to be loaded via this mode unless they are explicitly allowlisted by the user via `torch.serialization.add_safe_globals`. We recommend you start setting `weights_only=True` for any use case where you don't have full control of the loaded file. Please open an issue on GitHub for any issues related to this experimental feature.\n",
      "  num_emb = torch.load('./embeddings/' + args.dataset + '-numeric.pth')\n",
      "Epoch 999 | D loss: 5.861207, G loss 600.375678: 100%|██████████| 1000/1000 [10:17:53<00:00, 37.07s/it]\n"
     ]
    }
   ],
   "source": [
    "%%bash\n",
    "DATA=DB15K\n",
    "EMB_DIM=250\n",
    "NUM_BATCH=1024\n",
    "MARGIN=12\n",
    "LR=1e-4\n",
    "LRG=1e-4\n",
    "NEG_NUM=128\n",
    "MU=0.0001\n",
    "EPOCH=1000\n",
    "\n",
    "\n",
    "CUDA_VISIBLE_DEVICES=0 nohup python run_adv_wgan_gp_3modal.py -dataset=$DATA \\\n",
    "  -batch_size=$NUM_BATCH \\\n",
    "  -margin=$MARGIN \\\n",
    "  -epoch=$EPOCH \\\n",
    "  -dim=$EMB_DIM \\\n",
    "  -save=$DATA-$NUM_BATCH-$EMB_DIM-$NEG_NUM-$MU-$MARGIN-$LR-$EPOCH \\\n",
    "  -neg_num=$NEG_NUM \\\n",
    "  -mu=$MU \\\n",
    "  -learning_rate=$LR\\\n",
    "  -lrg=$LRG > $DATA-$EMB_DIM-$NUM_BATCH-$NEG_NUM-$MU-$MARGIN-$LR-$EPOCH.txt &"
   ]
  },
  {
   "cell_type": "code",
   "execution_count": 10,
   "id": "50c38764",
   "metadata": {
    "execution": {
     "iopub.execute_input": "2025-03-05T21:36:27.315260Z",
     "iopub.status.busy": "2025-03-05T21:36:27.314987Z",
     "iopub.status.idle": "2025-03-05T21:36:27.318143Z",
     "shell.execute_reply": "2025-03-05T21:36:27.317362Z"
    },
    "papermill": {
     "duration": 0.011704,
     "end_time": "2025-03-05T21:36:27.319336",
     "exception": false,
     "start_time": "2025-03-05T21:36:27.307632",
     "status": "completed"
    },
    "tags": []
   },
   "outputs": [],
   "source": [
    "# 1759"
   ]
  }
 ],
 "metadata": {
  "kaggle": {
   "accelerator": "gpu",
   "dataSources": [
    {
     "sourceId": 225882086,
     "sourceType": "kernelVersion"
    },
    {
     "modelId": 218608,
     "modelInstanceId": 196703,
     "sourceId": 230673,
     "sourceType": "modelInstanceVersion"
    }
   ],
   "isGpuEnabled": true,
   "isInternetEnabled": true,
   "language": "python",
   "sourceType": "notebook"
  },
  "kernelspec": {
   "display_name": "Python 3",
   "language": "python",
   "name": "python3"
  },
  "language_info": {
   "codemirror_mode": {
    "name": "ipython",
    "version": 3
   },
   "file_extension": ".py",
   "mimetype": "text/x-python",
   "name": "python",
   "nbconvert_exporter": "python",
   "pygments_lexer": "ipython3",
   "version": "3.10.12"
  },
  "papermill": {
   "default_parameters": {},
   "duration": 37264.092825,
   "end_time": "2025-03-05T21:36:27.680687",
   "environment_variables": {},
   "exception": null,
   "input_path": "__notebook__.ipynb",
   "output_path": "__notebook__.ipynb",
   "parameters": {},
   "start_time": "2025-03-05T11:15:23.587862",
   "version": "2.6.0"
  }
 },
 "nbformat": 4,
 "nbformat_minor": 5
}
