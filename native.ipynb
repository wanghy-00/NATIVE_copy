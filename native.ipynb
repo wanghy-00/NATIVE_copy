{
 "cells": [
  {
   "cell_type": "code",
   "execution_count": null,
   "id": "0ef7c5ac",
   "metadata": {
    "_cell_guid": "b1076dfc-b9ad-4769-8c92-a6c4dae69d19",
    "_uuid": "8f2839f25d086af736a60e9eeb907d3b93b6e0e5",
    "papermill": {
     "duration": 0.003106,
     "end_time": "2025-03-05T10:53:39.509320",
     "exception": false,
     "start_time": "2025-03-05T10:53:39.506214",
     "status": "completed"
    },
    "tags": []
   },
   "outputs": [],
   "source": []
  },
  {
   "cell_type": "code",
   "execution_count": 1,
   "id": "1ac3d9d3",
   "metadata": {
    "execution": {
     "iopub.execute_input": "2025-03-05T10:53:39.515245Z",
     "iopub.status.busy": "2025-03-05T10:53:39.514930Z",
     "iopub.status.idle": "2025-03-05T10:54:11.854509Z",
     "shell.execute_reply": "2025-03-05T10:54:11.853428Z"
    },
    "papermill": {
     "duration": 32.344123,
     "end_time": "2025-03-05T10:54:11.855999",
     "exception": false,
     "start_time": "2025-03-05T10:53:39.511876",
     "status": "completed"
    },
    "tags": []
   },
   "outputs": [
    {
     "name": "stdout",
     "output_type": "stream",
     "text": [
      "Cloning into 'NATIVE_copy'...\r\n",
      "fatal: unable to access 'https://github.com/wanghy-00/NATIVE_copy.git/': Could not resolve host: github.com\r\n"
     ]
    }
   ],
   "source": [
    "!git clone https://github.com/wanghy-00/NATIVE_copy.git"
   ]
  },
  {
   "cell_type": "code",
   "execution_count": 2,
   "id": "8b73108d",
   "metadata": {
    "execution": {
     "iopub.execute_input": "2025-03-05T10:54:11.861944Z",
     "iopub.status.busy": "2025-03-05T10:54:11.861702Z",
     "iopub.status.idle": "2025-03-05T10:54:11.864822Z",
     "shell.execute_reply": "2025-03-05T10:54:11.864127Z"
    },
    "papermill": {
     "duration": 0.007451,
     "end_time": "2025-03-05T10:54:11.866050",
     "exception": false,
     "start_time": "2025-03-05T10:54:11.858599",
     "status": "completed"
    },
    "tags": []
   },
   "outputs": [],
   "source": [
    "# !pip install -r /kaggle/working/NATIVE_copy/requirements.txt\n",
    "# "
   ]
  },
  {
   "cell_type": "code",
   "execution_count": 3,
   "id": "33bd669f",
   "metadata": {
    "execution": {
     "iopub.execute_input": "2025-03-05T10:54:11.871554Z",
     "iopub.status.busy": "2025-03-05T10:54:11.871299Z",
     "iopub.status.idle": "2025-03-05T10:54:11.876379Z",
     "shell.execute_reply": "2025-03-05T10:54:11.875787Z"
    },
    "papermill": {
     "duration": 0.00902,
     "end_time": "2025-03-05T10:54:11.877441",
     "exception": false,
     "start_time": "2025-03-05T10:54:11.868421",
     "status": "completed"
    },
    "tags": []
   },
   "outputs": [
    {
     "name": "stdout",
     "output_type": "stream",
     "text": [
      "[Errno 2] No such file or directory: '/kaggle/working/NATIVE_copy/'\n",
      "/kaggle/working\n"
     ]
    }
   ],
   "source": [
    "%cd /kaggle/working/NATIVE_copy/"
   ]
  },
  {
   "cell_type": "code",
   "execution_count": 4,
   "id": "de47bf02",
   "metadata": {
    "execution": {
     "iopub.execute_input": "2025-03-05T10:54:11.883144Z",
     "iopub.status.busy": "2025-03-05T10:54:11.882931Z",
     "iopub.status.idle": "2025-03-05T10:54:11.885922Z",
     "shell.execute_reply": "2025-03-05T10:54:11.885145Z"
    },
    "papermill": {
     "duration": 0.007187,
     "end_time": "2025-03-05T10:54:11.887104",
     "exception": false,
     "start_time": "2025-03-05T10:54:11.879917",
     "status": "completed"
    },
    "tags": []
   },
   "outputs": [],
   "source": [
    "# %cd NATIVE_copy"
   ]
  },
  {
   "cell_type": "code",
   "execution_count": 5,
   "id": "c468a53d",
   "metadata": {
    "execution": {
     "iopub.execute_input": "2025-03-05T10:54:11.892524Z",
     "iopub.status.busy": "2025-03-05T10:54:11.892277Z",
     "iopub.status.idle": "2025-03-05T10:54:11.895173Z",
     "shell.execute_reply": "2025-03-05T10:54:11.894420Z"
    },
    "papermill": {
     "duration": 0.00684,
     "end_time": "2025-03-05T10:54:11.896370",
     "exception": false,
     "start_time": "2025-03-05T10:54:11.889530",
     "status": "completed"
    },
    "tags": []
   },
   "outputs": [],
   "source": [
    "# !cp -r /kaggle/input/ebd /kaggle/working/NATIVE_copy/embeddings\n"
   ]
  },
  {
   "cell_type": "code",
   "execution_count": 6,
   "id": "cd3f1158",
   "metadata": {
    "execution": {
     "iopub.execute_input": "2025-03-05T10:54:11.901814Z",
     "iopub.status.busy": "2025-03-05T10:54:11.901613Z",
     "iopub.status.idle": "2025-03-05T10:54:11.904495Z",
     "shell.execute_reply": "2025-03-05T10:54:11.903746Z"
    },
    "papermill": {
     "duration": 0.007039,
     "end_time": "2025-03-05T10:54:11.905833",
     "exception": false,
     "start_time": "2025-03-05T10:54:11.898794",
     "status": "completed"
    },
    "tags": []
   },
   "outputs": [],
   "source": [
    "\n",
    "# !rm -rf /kaggle/working/NATIVE_copy/embeddings"
   ]
  },
  {
   "cell_type": "code",
   "execution_count": 7,
   "id": "7cea51b8",
   "metadata": {
    "execution": {
     "iopub.execute_input": "2025-03-05T10:54:11.911363Z",
     "iopub.status.busy": "2025-03-05T10:54:11.911167Z",
     "iopub.status.idle": "2025-03-05T10:54:16.544360Z",
     "shell.execute_reply": "2025-03-05T10:54:16.543479Z"
    },
    "papermill": {
     "duration": 4.637641,
     "end_time": "2025-03-05T10:54:16.545815",
     "exception": false,
     "start_time": "2025-03-05T10:54:11.908174",
     "status": "completed"
    },
    "tags": []
   },
   "outputs": [
    {
     "data": {
      "text/plain": [
       "'/kaggle/working/NATIVE_copy/embeddings'"
      ]
     },
     "execution_count": 7,
     "metadata": {},
     "output_type": "execute_result"
    }
   ],
   "source": [
    "import shutil\n",
    "# 复制文件到working目录\n",
    "shutil.copytree('/kaggle/input/ebd/pytorch/default/1', '/kaggle/working/NATIVE_copy/embeddings')\n"
   ]
  },
  {
   "cell_type": "code",
   "execution_count": 8,
   "id": "358f4550",
   "metadata": {
    "execution": {
     "iopub.execute_input": "2025-03-05T10:54:16.552141Z",
     "iopub.status.busy": "2025-03-05T10:54:16.551880Z",
     "iopub.status.idle": "2025-03-05T10:54:16.554971Z",
     "shell.execute_reply": "2025-03-05T10:54:16.554248Z"
    },
    "papermill": {
     "duration": 0.007515,
     "end_time": "2025-03-05T10:54:16.556136",
     "exception": false,
     "start_time": "2025-03-05T10:54:16.548621",
     "status": "completed"
    },
    "tags": []
   },
   "outputs": [],
   "source": [
    "# import torch\n",
    "# print(torch.cuda.current_device())\n",
    "# print(torch.cuda.get_device_name(torch.cuda.current_device()))\n",
    "# print(torch.cuda.memory_allocated())\n",
    "# print(torch.cuda.memory_cached())\n"
   ]
  },
  {
   "cell_type": "code",
   "execution_count": 9,
   "id": "e95664ce",
   "metadata": {
    "execution": {
     "iopub.execute_input": "2025-03-05T10:54:16.562293Z",
     "iopub.status.busy": "2025-03-05T10:54:16.562050Z",
     "iopub.status.idle": "2025-03-05T10:54:16.665600Z",
     "shell.execute_reply": "2025-03-05T10:54:16.664555Z"
    },
    "papermill": {
     "duration": 0.108307,
     "end_time": "2025-03-05T10:54:16.667112",
     "exception": false,
     "start_time": "2025-03-05T10:54:16.558805",
     "status": "completed"
    },
    "tags": []
   },
   "outputs": [
    {
     "name": "stderr",
     "output_type": "stream",
     "text": [
      "python3: can't open file '/kaggle/working/run_adv_wgan_gp_3modal.py': [Errno 2] No such file or directory\n"
     ]
    }
   ],
   "source": [
    "%%bash\n",
    "DATA=DB15K\n",
    "EMB_DIM=250\n",
    "NUM_BATCH=1024\n",
    "MARGIN=12\n",
    "LR=1e-4\n",
    "LRG=1e-4\n",
    "NEG_NUM=128\n",
    "MU=0.0001\n",
    "EPOCH=1000\n",
    "\n",
    "\n",
    "CUDA_VISIBLE_DEVICES=0 nohup python run_adv_wgan_gp_3modal.py -dataset=$DATA \\\n",
    "  -batch_size=$NUM_BATCH \\\n",
    "  -margin=$MARGIN \\\n",
    "  -epoch=$EPOCH \\\n",
    "  -dim=$EMB_DIM \\\n",
    "  -save=$DATA-$NUM_BATCH-$EMB_DIM-$NEG_NUM-$MU-$MARGIN-$LR-$EPOCH \\\n",
    "  -neg_num=$NEG_NUM \\\n",
    "  -mu=$MU \\\n",
    "  -learning_rate=$LR\\\n",
    "  -lrg=$LRG > $DATA-$EMB_DIM-$NUM_BATCH-$NEG_NUM-$MU-$MARGIN-$LR-$EPOCH.txt &"
   ]
  },
  {
   "cell_type": "code",
   "execution_count": 10,
   "id": "2c7a48e8",
   "metadata": {
    "execution": {
     "iopub.execute_input": "2025-03-05T10:54:16.673619Z",
     "iopub.status.busy": "2025-03-05T10:54:16.673355Z",
     "iopub.status.idle": "2025-03-05T10:54:16.676123Z",
     "shell.execute_reply": "2025-03-05T10:54:16.675536Z"
    },
    "papermill": {
     "duration": 0.007141,
     "end_time": "2025-03-05T10:54:16.677253",
     "exception": false,
     "start_time": "2025-03-05T10:54:16.670112",
     "status": "completed"
    },
    "tags": []
   },
   "outputs": [],
   "source": [
    "# 1759"
   ]
  }
 ],
 "metadata": {
  "kaggle": {
   "accelerator": "gpu",
   "dataSources": [
    {
     "sourceId": 225858249,
     "sourceType": "kernelVersion"
    },
    {
     "modelId": 218608,
     "modelInstanceId": 196703,
     "sourceId": 230673,
     "sourceType": "modelInstanceVersion"
    }
   ],
   "isGpuEnabled": true,
   "isInternetEnabled": false,
   "language": "python",
   "sourceType": "notebook"
  },
  "kernelspec": {
   "display_name": "Python 3",
   "language": "python",
   "name": "python3"
  },
  "language_info": {
   "codemirror_mode": {
    "name": "ipython",
    "version": 3
   },
   "file_extension": ".py",
   "mimetype": "text/x-python",
   "name": "python",
   "nbconvert_exporter": "python",
   "pygments_lexer": "ipython3",
   "version": "3.10.12"
  },
  "papermill": {
   "default_parameters": {},
   "duration": 40.318114,
   "end_time": "2025-03-05T10:54:17.097729",
   "environment_variables": {},
   "exception": null,
   "input_path": "__notebook__.ipynb",
   "output_path": "__notebook__.ipynb",
   "parameters": {},
   "start_time": "2025-03-05T10:53:36.779615",
   "version": "2.6.0"
  }
 },
 "nbformat": 4,
 "nbformat_minor": 5
}
