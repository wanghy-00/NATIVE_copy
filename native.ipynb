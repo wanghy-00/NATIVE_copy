{
 "cells": [
  {
   "cell_type": "code",
   "execution_count": null,
   "id": "9742473a",
   "metadata": {
    "_cell_guid": "b1076dfc-b9ad-4769-8c92-a6c4dae69d19",
    "_uuid": "8f2839f25d086af736a60e9eeb907d3b93b6e0e5",
    "papermill": {
     "duration": 0.002798,
     "end_time": "2025-03-05T11:14:23.810474",
     "exception": false,
     "start_time": "2025-03-05T11:14:23.807676",
     "status": "completed"
    },
    "tags": []
   },
   "outputs": [],
   "source": []
  },
  {
   "cell_type": "code",
   "execution_count": 1,
   "id": "2b57288d",
   "metadata": {
    "execution": {
     "iopub.execute_input": "2025-03-05T11:14:23.816329Z",
     "iopub.status.busy": "2025-03-05T11:14:23.816064Z",
     "iopub.status.idle": "2025-03-05T11:14:23.820350Z",
     "shell.execute_reply": "2025-03-05T11:14:23.819510Z"
    },
    "papermill": {
     "duration": 0.008495,
     "end_time": "2025-03-05T11:14:23.821558",
     "exception": false,
     "start_time": "2025-03-05T11:14:23.813063",
     "status": "completed"
    },
    "tags": []
   },
   "outputs": [],
   "source": [
    "# !git clone https://github.com/wanghy-00/NATIVE_copy.git"
   ]
  },
  {
   "cell_type": "code",
   "execution_count": 2,
   "id": "5a2c1ca5",
   "metadata": {
    "execution": {
     "iopub.execute_input": "2025-03-05T11:14:23.827858Z",
     "iopub.status.busy": "2025-03-05T11:14:23.827588Z",
     "iopub.status.idle": "2025-03-05T11:14:23.830522Z",
     "shell.execute_reply": "2025-03-05T11:14:23.829757Z"
    },
    "papermill": {
     "duration": 0.007908,
     "end_time": "2025-03-05T11:14:23.831795",
     "exception": false,
     "start_time": "2025-03-05T11:14:23.823887",
     "status": "completed"
    },
    "tags": []
   },
   "outputs": [],
   "source": [
    "# !pip install -r /kaggle/working/NATIVE_copy/requirements.txt\n",
    "# "
   ]
  },
  {
   "cell_type": "code",
   "execution_count": 3,
   "id": "8e09849a",
   "metadata": {
    "execution": {
     "iopub.execute_input": "2025-03-05T11:14:23.836953Z",
     "iopub.status.busy": "2025-03-05T11:14:23.836731Z",
     "iopub.status.idle": "2025-03-05T11:14:23.839601Z",
     "shell.execute_reply": "2025-03-05T11:14:23.838875Z"
    },
    "papermill": {
     "duration": 0.006907,
     "end_time": "2025-03-05T11:14:23.840930",
     "exception": false,
     "start_time": "2025-03-05T11:14:23.834023",
     "status": "completed"
    },
    "tags": []
   },
   "outputs": [],
   "source": [
    "# %cd /kaggle/working/NATIVE_copy/"
   ]
  },
  {
   "cell_type": "code",
   "execution_count": 4,
   "id": "0017e71d",
   "metadata": {
    "execution": {
     "iopub.execute_input": "2025-03-05T11:14:23.846051Z",
     "iopub.status.busy": "2025-03-05T11:14:23.845861Z",
     "iopub.status.idle": "2025-03-05T11:14:23.848910Z",
     "shell.execute_reply": "2025-03-05T11:14:23.848334Z"
    },
    "papermill": {
     "duration": 0.00695,
     "end_time": "2025-03-05T11:14:23.850118",
     "exception": false,
     "start_time": "2025-03-05T11:14:23.843168",
     "status": "completed"
    },
    "tags": []
   },
   "outputs": [],
   "source": [
    "# %cd NATIVE_copy"
   ]
  },
  {
   "cell_type": "code",
   "execution_count": 5,
   "id": "da0df976",
   "metadata": {
    "execution": {
     "iopub.execute_input": "2025-03-05T11:14:23.855179Z",
     "iopub.status.busy": "2025-03-05T11:14:23.854978Z",
     "iopub.status.idle": "2025-03-05T11:14:23.857909Z",
     "shell.execute_reply": "2025-03-05T11:14:23.857164Z"
    },
    "papermill": {
     "duration": 0.006781,
     "end_time": "2025-03-05T11:14:23.859102",
     "exception": false,
     "start_time": "2025-03-05T11:14:23.852321",
     "status": "completed"
    },
    "tags": []
   },
   "outputs": [],
   "source": [
    "# !cp -r /kaggle/input/ebd /kaggle/working/NATIVE_copy/embeddings\n"
   ]
  },
  {
   "cell_type": "code",
   "execution_count": 6,
   "id": "f36dc749",
   "metadata": {
    "execution": {
     "iopub.execute_input": "2025-03-05T11:14:23.864170Z",
     "iopub.status.busy": "2025-03-05T11:14:23.863968Z",
     "iopub.status.idle": "2025-03-05T11:14:23.867051Z",
     "shell.execute_reply": "2025-03-05T11:14:23.866424Z"
    },
    "papermill": {
     "duration": 0.006935,
     "end_time": "2025-03-05T11:14:23.868210",
     "exception": false,
     "start_time": "2025-03-05T11:14:23.861275",
     "status": "completed"
    },
    "tags": []
   },
   "outputs": [],
   "source": [
    "\n",
    "# !rm -rf /kaggle/working/NATIVE_copy/embeddings"
   ]
  },
  {
   "cell_type": "code",
   "execution_count": 7,
   "id": "8568f9a4",
   "metadata": {
    "execution": {
     "iopub.execute_input": "2025-03-05T11:14:23.873250Z",
     "iopub.status.busy": "2025-03-05T11:14:23.873051Z",
     "iopub.status.idle": "2025-03-05T11:14:27.867779Z",
     "shell.execute_reply": "2025-03-05T11:14:27.866914Z"
    },
    "papermill": {
     "duration": 3.998606,
     "end_time": "2025-03-05T11:14:27.869034",
     "exception": false,
     "start_time": "2025-03-05T11:14:23.870428",
     "status": "completed"
    },
    "tags": []
   },
   "outputs": [
    {
     "data": {
      "text/plain": [
       "'/kaggle/working/NATIVE_copy/embeddings'"
      ]
     },
     "execution_count": 7,
     "metadata": {},
     "output_type": "execute_result"
    }
   ],
   "source": [
    "import shutil\n",
    "# 复制文件到working目录\n",
    "shutil.copytree('/kaggle/input/ebd/pytorch/default/1', '/kaggle/working/NATIVE_copy/embeddings')\n"
   ]
  },
  {
   "cell_type": "code",
   "execution_count": 8,
   "id": "614d0f20",
   "metadata": {
    "execution": {
     "iopub.execute_input": "2025-03-05T11:14:27.874874Z",
     "iopub.status.busy": "2025-03-05T11:14:27.874607Z",
     "iopub.status.idle": "2025-03-05T11:14:27.877490Z",
     "shell.execute_reply": "2025-03-05T11:14:27.876873Z"
    },
    "papermill": {
     "duration": 0.006891,
     "end_time": "2025-03-05T11:14:27.878556",
     "exception": false,
     "start_time": "2025-03-05T11:14:27.871665",
     "status": "completed"
    },
    "tags": []
   },
   "outputs": [],
   "source": [
    "# import torch\n",
    "# print(torch.cuda.current_device())\n",
    "# print(torch.cuda.get_device_name(torch.cuda.current_device()))\n",
    "# print(torch.cuda.memory_allocated())\n",
    "# print(torch.cuda.memory_cached())\n"
   ]
  },
  {
   "cell_type": "code",
   "execution_count": 9,
   "id": "04d825b6",
   "metadata": {
    "execution": {
     "iopub.execute_input": "2025-03-05T11:14:27.884176Z",
     "iopub.status.busy": "2025-03-05T11:14:27.883939Z",
     "iopub.status.idle": "2025-03-05T11:14:27.984904Z",
     "shell.execute_reply": "2025-03-05T11:14:27.983968Z"
    },
    "papermill": {
     "duration": 0.105304,
     "end_time": "2025-03-05T11:14:27.986377",
     "exception": false,
     "start_time": "2025-03-05T11:14:27.881073",
     "status": "completed"
    },
    "tags": []
   },
   "outputs": [
    {
     "name": "stderr",
     "output_type": "stream",
     "text": [
      "python3: can't open file '/kaggle/working/run_adv_wgan_gp_3modal.py': [Errno 2] No such file or directory\n"
     ]
    }
   ],
   "source": [
    "%%bash\n",
    "DATA=DB15K\n",
    "EMB_DIM=250\n",
    "NUM_BATCH=1024\n",
    "MARGIN=12\n",
    "LR=1e-4\n",
    "LRG=1e-4\n",
    "NEG_NUM=128\n",
    "MU=0.0001\n",
    "EPOCH=1000\n",
    "\n",
    "\n",
    "CUDA_VISIBLE_DEVICES=0 nohup python run_adv_wgan_gp_3modal.py -dataset=$DATA \\\n",
    "  -batch_size=$NUM_BATCH \\\n",
    "  -margin=$MARGIN \\\n",
    "  -epoch=$EPOCH \\\n",
    "  -dim=$EMB_DIM \\\n",
    "  -save=$DATA-$NUM_BATCH-$EMB_DIM-$NEG_NUM-$MU-$MARGIN-$LR-$EPOCH \\\n",
    "  -neg_num=$NEG_NUM \\\n",
    "  -mu=$MU \\\n",
    "  -learning_rate=$LR\\\n",
    "  -lrg=$LRG > $DATA-$EMB_DIM-$NUM_BATCH-$NEG_NUM-$MU-$MARGIN-$LR-$EPOCH.txt &"
   ]
  },
  {
   "cell_type": "code",
   "execution_count": 10,
   "id": "1da303ef",
   "metadata": {
    "execution": {
     "iopub.execute_input": "2025-03-05T11:14:27.992340Z",
     "iopub.status.busy": "2025-03-05T11:14:27.992109Z",
     "iopub.status.idle": "2025-03-05T11:14:27.995306Z",
     "shell.execute_reply": "2025-03-05T11:14:27.994467Z"
    },
    "papermill": {
     "duration": 0.007475,
     "end_time": "2025-03-05T11:14:27.996583",
     "exception": false,
     "start_time": "2025-03-05T11:14:27.989108",
     "status": "completed"
    },
    "tags": []
   },
   "outputs": [],
   "source": [
    "# 1759"
   ]
  }
 ],
 "metadata": {
  "kaggle": {
   "accelerator": "gpu",
   "dataSources": [
    {
     "sourceId": 225882086,
     "sourceType": "kernelVersion"
    },
    {
     "modelId": 218608,
     "modelInstanceId": 196703,
     "sourceId": 230673,
     "sourceType": "modelInstanceVersion"
    }
   ],
   "isGpuEnabled": true,
   "isInternetEnabled": true,
   "language": "python",
   "sourceType": "notebook"
  },
  "kernelspec": {
   "display_name": "Python 3",
   "language": "python",
   "name": "python3"
  },
  "language_info": {
   "codemirror_mode": {
    "name": "ipython",
    "version": 3
   },
   "file_extension": ".py",
   "mimetype": "text/x-python",
   "name": "python",
   "nbconvert_exporter": "python",
   "pygments_lexer": "ipython3",
   "version": "3.10.12"
  },
  "papermill": {
   "default_parameters": {},
   "duration": 7.274756,
   "end_time": "2025-03-05T11:14:28.417650",
   "environment_variables": {},
   "exception": null,
   "input_path": "__notebook__.ipynb",
   "output_path": "__notebook__.ipynb",
   "parameters": {},
   "start_time": "2025-03-05T11:14:21.142894",
   "version": "2.6.0"
  }
 },
 "nbformat": 4,
 "nbformat_minor": 5
}
